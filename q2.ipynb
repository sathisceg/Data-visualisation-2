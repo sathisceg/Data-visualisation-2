{
 "cells": [
  {
   "cell_type": "code",
   "execution_count": 2,
   "metadata": {},
   "outputs": [],
   "source": [
    "import os\n",
    "import numpy as np\n",
    "import matplotlib.pyplot as plt\n",
    "import matplotlib.pyplot as plt; plt.rcdefaults()\n",
    "import numpy as np\n",
    "import matplotlib.pyplot as plt\n",
    " "
   ]
  },
  {
   "cell_type": "code",
   "execution_count": 3,
   "metadata": {},
   "outputs": [],
   "source": [
    "def read_file(file):\n",
    "    \n",
    "    \n",
    "    check_in_data=[]\n",
    "\n",
    "    with open(file,\"r\") as f:\n",
    "        text = f.readlines()\n",
    "        \n",
    "    \n",
    "    for line in text:\n",
    "        check_in_data.append(line)\n",
    "        \n",
    "    return check_in_data"
   ]
  },
  {
   "cell_type": "code",
   "execution_count": 4,
   "metadata": {},
   "outputs": [],
   "source": [
    "checkin_data=read_file(\"loc-gowalla_totalCheckins.txt\")\n",
    "\n"
   ]
  },
  {
   "cell_type": "code",
   "execution_count": 5,
   "metadata": {},
   "outputs": [],
   "source": [
    "user_time={}\n",
    "user_location={}\n",
    "user_map={}\n",
    "\n",
    "location_latitude_alongitube={}"
   ]
  },
  {
   "cell_type": "code",
   "execution_count": 6,
   "metadata": {},
   "outputs": [],
   "source": [
    "\n",
    "i=0\n",
    "for line in checkin_data:\n",
    "    \n",
    "    temp=line.split(\"\\t\")\n",
    "        \n",
    "    #splitting user data\n",
    "    user=temp[0]\n",
    "    \n",
    "    time=temp[1]\n",
    "    \n",
    "    lat_lon=temp[2]+\"$\"+temp[3]\n",
    "    \n",
    "    loc=temp[4].replace('\\n','')\n",
    "    \n",
    "    \n",
    "#     print(user,time,lat_lon,loc)\n",
    "    \n",
    "    #getting user location values\n",
    "    if (user in user_location):\n",
    "        \n",
    "        if loc in user_location[user]:\n",
    "                user_location[user][loc]=user_location[user][loc]+1\n",
    "        else:\n",
    "                user_location[user][loc]={}\n",
    "                user_location[user][loc]=1\n",
    "    else:\n",
    "        \n",
    "#         print(\"else 1\")\n",
    "        user_location[user]={}\n",
    "        user_location[user][loc]=1\n",
    "    \n",
    "    \n",
    "    \n",
    "    #getting user location values\n",
    "    \n",
    "    if (user in user_map):\n",
    "        \n",
    "        if lat_lon in user_map[user]:\n",
    "                user_map[user][lat_lon]=user_map[user][lat_lon]+1\n",
    "        else:\n",
    "                user_map[user][lat_lon]={}\n",
    "                user_map[user][lat_lon]=1\n",
    "    else:\n",
    "        \n",
    "#         print(\"else 2\")\n",
    "        user_map[user]={}\n",
    "        user_map[user][lat_lon]=1\n",
    "        \n",
    "    \n",
    "    \n",
    "    if (user in user_time):\n",
    "        \n",
    "        if time in user_time[user]:\n",
    "                user_time[user][time]=user_time[user][time]+1\n",
    "        else:\n",
    "                user_time[user][time]={}\n",
    "                user_time[user][time]=1\n",
    "    else:\n",
    "        \n",
    "#         print(\"else 2\")\n",
    "        user_time[user]={}\n",
    "        user_time[user][time]=1\n",
    "        \n",
    "        \n",
    "        \n",
    "    if (loc not in location_latitude_alongitube):\n",
    "            location_latitude_alongitube[loc]=lat_lon\n",
    "    \n",
    "    \n",
    "    i=i+1\n",
    "    \n",
    "    if(i==100000):\n",
    "        break"
   ]
  },
  {
   "cell_type": "code",
   "execution_count": 7,
   "metadata": {},
   "outputs": [],
   "source": [
    "import operator"
   ]
  },
  {
   "cell_type": "code",
   "execution_count": 8,
   "metadata": {},
   "outputs": [],
   "source": [
    "def find_home(list_place):\n",
    "    \n",
    "    sorted_d = sorted(list_place.items(), key=operator.itemgetter(1))\n",
    "    \n",
    "#     print(sorted_d)\n",
    "    \n",
    "    temp=0\n",
    "    for k,v in sorted_d:\n",
    "#         print(k,v)\n",
    "        temp=temp+v\n",
    "    \n",
    "#     print(temp/len(sorted_d))\n",
    "    \n",
    "    tv=temp/len(sorted_d)\n",
    "    \n",
    "#     print(tv)\n",
    "    h_loc=-1\n",
    "    for k,v in sorted_d:\n",
    "        if v>=tv:\n",
    "            h_loc=k\n",
    "            break\n",
    "    \n",
    "   \n",
    "\n",
    "    return h_loc"
   ]
  },
  {
   "cell_type": "code",
   "execution_count": null,
   "metadata": {},
   "outputs": [],
   "source": []
  },
  {
   "cell_type": "code",
   "execution_count": 9,
   "metadata": {},
   "outputs": [],
   "source": [
    "user_home={}\n",
    "\n",
    "for k in user_location.keys():\n",
    "#     print(k)\n",
    "    loc=find_home(user_location[k])\n",
    "    user_home[k]=loc"
   ]
  },
  {
   "cell_type": "code",
   "execution_count": 10,
   "metadata": {},
   "outputs": [],
   "source": [
    "\n",
    "user_home_lat_long={}\n",
    "\n",
    "for k, v in user_home.items():\n",
    "#     print(v)\n",
    "    \n",
    "    if k not in user_home_lat_long:\n",
    "        user_home_lat_long[k]=location_latitude_alongitube[v]\n",
    "        "
   ]
  },
  {
   "cell_type": "code",
   "execution_count": 11,
   "metadata": {},
   "outputs": [],
   "source": [
    "import geopy.distance"
   ]
  },
  {
   "cell_type": "code",
   "execution_count": 12,
   "metadata": {},
   "outputs": [],
   "source": [
    "# user_home_lat_long\n",
    "\n",
    "def m_dist(c1,c2):\n",
    "    return geopy.distance.vincenty(c1, c2)\n"
   ]
  },
  {
   "cell_type": "code",
   "execution_count": 13,
   "metadata": {},
   "outputs": [
    {
     "name": "stderr",
     "output_type": "stream",
     "text": [
      "/home/sathis/anaconda3/lib/python3.7/site-packages/ipykernel_launcher.py:4: DeprecationWarning: Vincenty is deprecated and is going to be removed in geopy 2.0. Use `geopy.distance.geodesic` (or the default `geopy.distance.distance`) instead, which is more accurate and always converges.\n",
      "  after removing the cwd from sys.path.\n"
     ]
    }
   ],
   "source": [
    "\n",
    "user_li=[]\n",
    "distance_li=[]\n",
    "\n",
    "\n",
    "for k,v in user_home_lat_long.items():\n",
    "    \n",
    "#     print(k,v)  \n",
    "    \n",
    "    list_t=list(user_map[k])\n",
    "    \n",
    "    d=0\n",
    "    for t in list_t:\n",
    "        \n",
    "#         print(t)        \n",
    "        t1=v.split(\"$\")\n",
    "        t2=t.split(\"$\")\n",
    "        \n",
    "        coords_1 = (float(t1[0]),float(t1[1]))\n",
    "        coords_2 = (float(t2[0]),float(t2[1]))\n",
    "        \n",
    "#         print(coords_2)\n",
    "        \n",
    "        t=m_dist(coords_1,coords_2)\n",
    "        \n",
    "#         print(str(t).split(\" \")[0])\n",
    "        \n",
    "        t=float(str(t).split(\" \")[0])\n",
    "        \n",
    "        d=d+t\n",
    "        \n",
    "#         print(\"distance \",d)\n",
    "    user_li.append(k)\n",
    "    distance_li.append(d)\n",
    "#     break\n",
    "    \n",
    "\n",
    "\n"
   ]
  },
  {
   "cell_type": "code",
   "execution_count": 14,
   "metadata": {},
   "outputs": [],
   "source": [
    "# user_li"
   ]
  },
  {
   "cell_type": "markdown",
   "metadata": {},
   "source": [
    "\n",
    "\n",
    "# distribution of distance from home"
   ]
  },
  {
   "cell_type": "code",
   "execution_count": 15,
   "metadata": {},
   "outputs": [
    {
     "data": {
      "image/png": "[encoded data removed]",
      "text/plain": [
       "<Figure size 432x288 with 1 Axes>"
      ]
     },
     "metadata": {
      "needs_background": "light"
     },
     "output_type": "display_data"
    }
   ],
   "source": [
    "objects = user_li[:20]\n",
    "y_pos = np.arange(len(objects))\n",
    "performance = distance_li[:20]\n",
    " \n",
    "plt.barh(y_pos, performance, align='center', alpha=0.5)\n",
    "plt.yticks(y_pos, objects)\n",
    "plt.xlabel('distance')\n",
    "plt.title('distance of users')\n",
    " \n",
    "plt.show()"
   ]
  },
  {
   "cell_type": "code",
   "execution_count": null,
   "metadata": {},
   "outputs": [],
   "source": []
  },
  {
   "cell_type": "markdown",
   "metadata": {},
   "source": [
    "# probability that a user will travel to friend’s home vs the\n",
    "# distance of check-in points of the user"
   ]
  },
  {
   "cell_type": "markdown",
   "metadata": {},
   "source": []
  },
  {
   "cell_type": "code",
   "execution_count": 16,
   "metadata": {},
   "outputs": [],
   "source": [
    "friend_data=read_file(\"edges2500.txt\")"
   ]
  },
  {
   "cell_type": "code",
   "execution_count": 17,
   "metadata": {},
   "outputs": [],
   "source": [
    "\n",
    "friend_list={}\n",
    "\n",
    "for line in friend_data:\n",
    "#     print(line)\n",
    "    temp=line.split('\\t')\n",
    "#     print(temp[0],temp[1])\n",
    "\n",
    "    if temp[0] not in friend_list:\n",
    "        friend_list[temp[0]]=[]\n",
    "        friend_list[temp[0]].append(temp[1].replace('\\n',''))\n",
    "    else:\n",
    "        friend_list[temp[0]].append(temp[1].replace('\\n',''))\n",
    "    \n",
    "    "
   ]
  },
  {
   "cell_type": "code",
   "execution_count": 18,
   "metadata": {},
   "outputs": [],
   "source": [
    "friends_home={}\n",
    "\n",
    "\n",
    "\n",
    "for k,v in friend_list.items():    \n",
    "\n",
    "    #     print(k,v)  \n",
    "    for t in v:\n",
    "        \n",
    "        if t not in user_home:\n",
    "            continue\n",
    "            \n",
    "#         print(t,user_home[t])\n",
    "        \n",
    "        if k not in friends_home:\n",
    "            friends_home[k]=[]\n",
    "            friends_home[k].append(user_home[t])\n",
    "        else:\n",
    "            friends_home[k].append(user_home[t])\n",
    "    \n",
    "    \n",
    "#     print(user_home['5'])\n",
    "    \n",
    "#     if temp[0] not in friend_list:\n",
    "#         friend_list[temp[0]]=[]\n",
    "#         friend_list[temp[0]].append(temp[1].replace('\\n',''))\n",
    "#     else:\n",
    "# #         friend_list[temp[0]].append(temp[1].replace('\\n',''))\n",
    "    \n",
    "#     print(list(user_location['5']))\n",
    "    \n",
    "#     print('906408' in list(user_location['5']))\n",
    "    \n",
    "\n",
    "#     break\n",
    "    "
   ]
  },
  {
   "cell_type": "code",
   "execution_count": 103,
   "metadata": {},
   "outputs": [],
   "source": [
    "def intersection(lst1, lst2): \n",
    "    lst3 = [value for value in lst1 if value in lst2] \n",
    "    return lst3"
   ]
  },
  {
   "cell_type": "code",
   "execution_count": 104,
   "metadata": {},
   "outputs": [
    {
     "name": "stdout",
     "output_type": "stream",
     "text": [
      "0\n",
      "1\n",
      "2\n"
     ]
    }
   ],
   "source": [
    "\n",
    "\n",
    "c_list=[]\n",
    "f_list=[]\n",
    "\n",
    "for k,v in user_location.items():\n",
    "   \n",
    "   \n",
    "    \n",
    "    \n",
    "    if k not in friends_home:\n",
    "        continue\n",
    "    \n",
    "    t1=len(list(v))\n",
    "    \n",
    "    t2=(len(intersection(friends_home[k],list(v))))\n",
    "    \n",
    "    c_list.append(t1)\n",
    "    \n",
    "    f_list.append(t2)\n",
    "    \n",
    "    print(k)\n",
    "#     break\n",
    "\n",
    "\n",
    "\n",
    "\n"
   ]
  },
  {
   "cell_type": "code",
   "execution_count": 105,
   "metadata": {},
   "outputs": [
    {
     "data": {
      "text/plain": [
       "dict_keys(['0', '1', '2'])"
      ]
     },
     "execution_count": 105,
     "metadata": {},
     "output_type": "execute_result"
    }
   ],
   "source": [
    "friends_home.keys()"
   ]
  },
  {
   "cell_type": "code",
   "execution_count": null,
   "metadata": {},
   "outputs": [],
   "source": []
  },
  {
   "cell_type": "code",
   "execution_count": 106,
   "metadata": {},
   "outputs": [
    {
     "data": {
      "text/plain": [
       "[135, 12, 1870]"
      ]
     },
     "execution_count": 106,
     "metadata": {},
     "output_type": "execute_result"
    }
   ],
   "source": [
    "c_list"
   ]
  },
  {
   "cell_type": "code",
   "execution_count": 107,
   "metadata": {},
   "outputs": [
    {
     "data": {
      "text/plain": [
       "[19, 0, 2]"
      ]
     },
     "execution_count": 107,
     "metadata": {},
     "output_type": "execute_result"
    }
   ],
   "source": [
    "f_list"
   ]
  },
  {
   "cell_type": "code",
   "execution_count": 132,
   "metadata": {},
   "outputs": [
    {
     "data": {
      "image/png": "[encoded data removed]",
      "text/plain": [
       "<Figure size 432x288 with 1 Axes>"
      ]
     },
     "metadata": {
      "needs_background": "light"
     },
     "output_type": "display_data"
    }
   ],
   "source": [
    "import numpy as np\n",
    "import matplotlib.pyplot as plt\n",
    "\n",
    "data = [c_list,f_list]\n",
    "\n",
    "X = np.arange(len(c_list))\n",
    "plt.bar(X + 0.00, data[0], color = 'b', width = 0.25,label=\"checkedin\")\n",
    "plt.bar(X + 0.25, data[1], color = 'g', width = 0.25,label=\"friendshome\")\n",
    "# plt.bar(X + 0.50, data[2], color = 'r', width = 0.25)\n",
    "plt.xlabel('user')\n",
    "plt.title('diff of checkins')\n",
    "plt.show()"
   ]
  },
  {
   "cell_type": "markdown",
   "metadata": {},
   "source": [
    "# Plot of userA and userB location on time"
   ]
  },
  {
   "cell_type": "code",
   "execution_count": 127,
   "metadata": {},
   "outputs": [],
   "source": [
    "def parse_data(lat_lon_l):\n",
    "    \n",
    "    lat_l=[]\n",
    "    lon_l=[]\n",
    "    \n",
    "    for t in lat_lon_l:\n",
    "        lat_l.append(t.split(\"$\")[0])\n",
    "        lon_l.append(t.split(\"$\")[1])\n",
    "        \n",
    "    return lat_l,lon_l"
   ]
  },
  {
   "cell_type": "code",
   "execution_count": 130,
   "metadata": {},
   "outputs": [],
   "source": [
    "def plot_location(u1,u2):\n",
    "        \n",
    "#         print(u1.keys())\n",
    "        \n",
    "        u1_l=list(u1.keys())\n",
    "        \n",
    "        u2_l=list(u2.keys())\n",
    "        \n",
    "#         print(u1_l[0].split(\"$\"))\n",
    "\n",
    "        u1_lat,u1_lon=parse_data(u1_l[:20])\n",
    "    \n",
    "        u2_lat,u2_lon=parse_data(u2_l[:20])\n",
    "        \n",
    "        int_lat=intersection(u1_lat,u2_lat)\n",
    "        \n",
    "        int_lon=intersection(u1_lon,u2_lon)\n",
    "        \n",
    "        if(len(int_lat)>0):\n",
    "            \n",
    "\n",
    "            plt.scatter(u1_lat, u1_lon,c=\"red\",marker='*',label=\"user1\")\n",
    "\n",
    "            plt.scatter(u2_lat, u2_lon,c=\"green\",marker='+',label=\"user2\")\n",
    "\n",
    "            plt.scatter(int_lat, int_lon,c=\"blue\",marker='v',label=\"common\")\n",
    "\n",
    "            plt.show()\n",
    "            \n",
    "            return 1\n",
    "        return 0\n",
    "        \n",
    "    \n",
    "    \n",
    "    "
   ]
  },
  {
   "cell_type": "code",
   "execution_count": null,
   "metadata": {},
   "outputs": [],
   "source": []
  },
  {
   "cell_type": "code",
   "execution_count": 131,
   "metadata": {},
   "outputs": [
    {
     "data": {
      "image/png": "[encoded data removed]",
      "text/plain": [
       "<Figure size 432x288 with 1 Axes>"
      ]
     },
     "metadata": {
      "needs_background": "light"
     },
     "output_type": "display_data"
    }
   ],
   "source": [
    "for k,v in friend_list.items():\n",
    "#     print(k,v)\n",
    "    \n",
    "    for fv in v:\n",
    "        \n",
    "#         print(k,fv)\n",
    "#         print(user_map[k])\n",
    "#         print(user_map[fv])\n",
    "        if fv not in user_map:\n",
    "            continue\n",
    "        \n",
    "        t=plot_location(user_map[k],user_map[fv])\n",
    "        \n",
    "        if(t==1):\n",
    "            break\n",
    "    \n",
    "    break"
   ]
  },
  {
   "cell_type": "code",
   "execution_count": null,
   "metadata": {},
   "outputs": [],
   "source": []
  },
  {
   "cell_type": "markdown",
   "metadata": {},
   "source": [
    "# limits of using friendship data in predicting mobility of user."
   ]
  },
  {
   "cell_type": "markdown",
   "metadata": {},
   "source": [
    "User might have went to all the checkedin locations under the influence of his friends\n",
    "\n",
    "Degree of closeness may vary which is difficult to predicte\n",
    "\n",
    "It may favor close friends more\n",
    "\n",
    "Predicting  uncommon place will be difficult"
   ]
  },
  {
   "cell_type": "code",
   "execution_count": null,
   "metadata": {},
   "outputs": [],
   "source": []
  },
  {
   "cell_type": "code",
   "execution_count": null,
   "metadata": {},
   "outputs": [],
   "source": []
  },
  {
   "cell_type": "code",
   "execution_count": null,
   "metadata": {},
   "outputs": [],
   "source": []
  },
  {
   "cell_type": "code",
   "execution_count": null,
   "metadata": {},
   "outputs": [],
   "source": []
  },
  {
   "cell_type": "code",
   "execution_count": null,
   "metadata": {},
   "outputs": [],
   "source": []
  }
 ],
 "metadata": {
  "kernelspec": {
   "display_name": "Python 3",
   "language": "python",
   "name": "python3"
  },
  "language_info": {
   "codemirror_mode": {
    "name": "ipython",
    "version": 3
   },
   "file_extension": ".py",
   "mimetype": "text/x-python",
   "name": "python",
   "nbconvert_exporter": "python",
   "pygments_lexer": "ipython3",
   "version": "3.7.1"
  }
 },
 "nbformat": 4,
 "nbformat_minor": 2
}
